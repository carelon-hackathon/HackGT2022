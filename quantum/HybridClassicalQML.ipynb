{
 "cells": [
  {
   "cell_type": "code",
   "execution_count": 4,
   "metadata": {
    "slideshow": {
     "slide_type": "skip"
    }
   },
   "outputs": [],
   "source": [
    "import numpy as np\n",
    "import matplotlib.pyplot as plt\n",
    "from itertools import combinations\n",
    "\n",
    "from qiskit import BasicAer, Aer, transpile, assemble\n",
    "# from qiskit.aqua import QuantumInstance, aqua_globals\n",
    "# from qiskit.aqua.algorithms import VQC\n",
    "from qiskit.algorithms.optimizers import SPSA, COBYLA\n",
    "from qiskit.circuit.library import TwoLocal, ZZFeatureMap\n",
    "from qiskit.circuit import QuantumCircuit, Gate, Parameter\n",
    "# from qiskit.aqua.utils import split_dataset_to_data_and_labels, map_label_to_class_name\n",
    "\n",
    "\n",
    "seed = 10599\n",
    "# aqua_globals.random_seed = seed"
   ]
  },
  {
   "cell_type": "markdown",
   "metadata": {
    "slideshow": {
     "slide_type": "slide"
    }
   },
   "source": [
    "## Hybrid Quantum-Classical Machine Learning \n",
    "\n",
    "Quantum embeddings for machine learning \n",
    "\n",
    "arXiv:2001.03622"
   ]
  },
  {
   "cell_type": "markdown",
   "metadata": {
    "slideshow": {
     "slide_type": "subslide"
    }
   },
   "source": [
    "### Binary Classification\n",
    "\n",
    "- Binary classification is a process to predict (or assign) a data point to one of two classes (categories). \n",
    "\n",
    "- We can define a function (known as the objective function) that computes our \"error\" (known as cost) once we assign a data point to a class. \n",
    "\n",
    "- Our goal is to find the parameters (or weights) of the objective function that will minimize our cost, i.e minimize our error of assignment."
   ]
  },
  {
   "cell_type": "markdown",
   "metadata": {
    "slideshow": {
     "slide_type": "skip"
    }
   },
   "source": [
    "<!-- <img src=\"QMetric_Simple_Circ_Idea.png\" width=\"1500\" height=\"1000\" align=\"center\"/> -->"
   ]
  },
  {
   "cell_type": "markdown",
   "metadata": {
    "slideshow": {
     "slide_type": "slide"
    }
   },
   "source": [
    "<img src=\"General_QML.png\" width=\"1500\" height=\"1000\" align=\"center\"/>"
   ]
  },
  {
   "cell_type": "markdown",
   "metadata": {
    "slideshow": {
     "slide_type": "slide"
    }
   },
   "source": [
    "### Quantum Feature Map"
   ]
  },
  {
   "cell_type": "markdown",
   "metadata": {
    "slideshow": {
     "slide_type": "fragment"
    }
   },
   "source": [
    "- A quantum feature map will embed the input features (data) into **Hilbert Space**. \n",
    "    - Hilbert Space, is the space for quantum bits, which for one qubit can be represented as a sphere. \n",
    "    - The dimensionality of this space increases as $2^{n}$ where n is the number of qubits. \n",
    "\n",
    "- Common trick in ML is to map your data to high dimensional space (the kernel trick), we do the same but with an exponentially larger dimensional space"
   ]
  },
  {
   "cell_type": "markdown",
   "metadata": {
    "slideshow": {
     "slide_type": "subslide"
    }
   },
   "source": [
    "A **quantum** feature map is a function that takes in classical data and returns a quantum state. We transform $x\\implies |\\phi(x)\\rangle$ using a sequence of unitary rotation gates $U_{\\phi}(x)$, which is a quantum circuit where the angles of rotation (of our state) depend on the input data.\n",
    "\n",
    "In other words, the quantum feature map **encodes** our classical data into **Hilbert Space** (where the qubits live) and maps each input data to a **quantum state**"
   ]
  },
  {
   "cell_type": "markdown",
   "metadata": {
    "slideshow": {
     "slide_type": "subslide"
    }
   },
   "source": [
    "We use the large dimensionality of this quantum circuit to embed our data points into a Hilbert Space where we can **efficiently** compute metrics like \"distance\""
   ]
  },
  {
   "cell_type": "markdown",
   "metadata": {
    "slideshow": {
     "slide_type": "slide"
    }
   },
   "source": [
    "### Variational Quantum Classifiers\n",
    "\n",
    "- Variational quantum classifiers are quantum circuits with rotation angles (parameters or weights) that embed input data in Hilbert space and perform quantum measurements to discriminate between classes. "
   ]
  },
  {
   "cell_type": "markdown",
   "metadata": {
    "slideshow": {
     "slide_type": "fragment"
    }
   },
   "source": [
    "- This is done by:\n",
    "    - Applying a quantum feature map (a circuit where the rotation angles depend on the input data) .\n",
    "    - Followed by a variational circuit (where the rotation angles are varied by an optimizer when computing the objective or cost function)"
   ]
  },
  {
   "cell_type": "markdown",
   "metadata": {
    "slideshow": {
     "slide_type": "skip"
    }
   },
   "source": [
    "<!-- <img src=\"variational_circuit.png\" width=\"1500\" height=\"1000\" align=\"center\"/> -->"
   ]
  },
  {
   "cell_type": "markdown",
   "metadata": {
    "slideshow": {
     "slide_type": "slide"
    }
   },
   "source": [
    "### Cost Function (Variational Circuit)\n",
    "\n",
    "The variational circuit has it's angles of rotation varied by an optimizer when computing the quantum classifier's cost function. \n",
    "This can be represented by the transformation: $U(\\theta)|\\psi \\rangle \\equiv |\\psi(\\theta)\\rangle$, where $|\\psi \\rangle$ is the starting state. "
   ]
  },
  {
   "cell_type": "markdown",
   "metadata": {
    "slideshow": {
     "slide_type": "subslide"
    }
   },
   "source": [
    "- We encode two datapoints into quantum states.\n",
    "- Apply transformations using gates with **parameters** ($\\theta$)\n",
    "\n",
    "- Compute the \"distance\" between the two datapoints for the given values of the **parameters**\n",
    "    - The \"distance\" between points from the **same** class (category) is **minimized**\n",
    "    - The \"distance\" between points from **different** classes (categories) is **maximized**\n",
    "    - These two \"distances\" give us the cost that we are trying to optimize"
   ]
  },
  {
   "cell_type": "markdown",
   "metadata": {
    "slideshow": {
     "slide_type": "fragment"
    }
   },
   "source": [
    "How do we optimize?\n",
    "- Randomly initialize all $\\theta$. \n",
    "    - We arbitrarily select a state $|\\psi\\rangle$ as an initial guess that approximates $|\\psi_{min}\\rangle$, the state where our **cost** is minimized. \n",
    "\n",
    "- Compute cost using distances between datapoints\n",
    "- Iteratively update all $\\theta$, which gives a new state $|\\psi\\rangle$ and brings us closer to $|\\psi_{min}\\rangle$ "
   ]
  },
  {
   "cell_type": "markdown",
   "metadata": {
    "slideshow": {
     "slide_type": "subslide"
    }
   },
   "source": [
    "<img src=\"General_QML_Training.png\" width=\"1500\" height=\"1000\" align=\"center\"/>"
   ]
  },
  {
   "cell_type": "markdown",
   "metadata": {
    "slideshow": {
     "slide_type": "slide"
    }
   },
   "source": [
    "### Example\n",
    "We have some 1D data here with two possible classes, **A** and **B**. \n",
    "<img src=\"1d_data_long.png\" width=\"1300\" height=\"800\" align=\"center\"/>"
   ]
  },
  {
   "cell_type": "code",
   "execution_count": 2,
   "metadata": {
    "slideshow": {
     "slide_type": "skip"
    }
   },
   "outputs": [
    {
     "name": "stderr",
     "output_type": "stream",
     "text": [
      "/Users/ag30293/anaconda3/envs/quantum/lib/python3.7/site-packages/ipykernel_launcher.py:16: UserWarning: FixedFormatter should only be used together with FixedLocator\n",
      "  app.launch_new_instance()\n"
     ]
    },
    {
     "data": {
      "image/png": "[encoded data removed]",
      "text/plain": [
       "<Figure size 1080x720 with 1 Axes>"
      ]
     },
     "metadata": {},
     "output_type": "display_data"
    }
   ],
   "source": [
    "plt.style.use('ggplot')\n",
    "\n",
    "data_0 = np.random.normal(0, 0.25, size=48)\n",
    "data_1 = np.concatenate((np.random.normal(-2, 0.25, size=24), np.random.normal(2, 0.1, size=24)))\n",
    "\n",
    "x_train_0 = data_0[:32]\n",
    "x_train_1 = data_1[:32]\n",
    "\n",
    "x_test_0 = data_0[32:]\n",
    "x_test_1 = data_1[32:]\n",
    "\n",
    "fig, ax = plt.subplots(figsize=(15, 10))\n",
    "\n",
    "ax.scatter(data_0, np.zeros(48), c='b', label='Class A', alpha=0.3, s=500)\n",
    "ax.scatter(data_1, np.zeros(48), c='r', label='Class B', alpha=0.3, s=500)\n",
    "ax.set_xticklabels(np.arange(-3, 3, 1), fontsize=15)\n",
    "_ = ax.legend(fontsize=20)\n",
    "\n",
    "plt.savefig(\"1d_data_long.png\")"
   ]
  },
  {
   "cell_type": "markdown",
   "metadata": {
    "slideshow": {
     "slide_type": "slide"
    }
   },
   "source": [
    "The two components used:\n",
    "\n",
    "- A quantum feature map with an $R_{X}(x_{i})$ Gate, that will take our input data point and map them to Hilbert Space. \n",
    "\n",
    "- The variational circuit will contain a $R_{Y}(\\theta)$ Gate, where our **parameters** will be the angles for the rotation gates. \n"
   ]
  },
  {
   "cell_type": "markdown",
   "metadata": {
    "slideshow": {
     "slide_type": "subslide"
    }
   },
   "source": [
    "These two circuits together will be a \"layer\" and the final circuit will consist of 4 layers, with each variational circuit (in a given layer) adding another parameter.\n",
    "\n",
    "<img src=\"full_circ.png\" width=\"1600\" height=\"1000\" align=\"center\"/>"
   ]
  },
  {
   "cell_type": "code",
   "execution_count": 3,
   "metadata": {
    "slideshow": {
     "slide_type": "skip"
    }
   },
   "outputs": [
    {
     "data": {
      "image/png": "[encoded data removed]",
      "text/plain": [
       "<Figure size 615.126x84.28 with 1 Axes>"
      ]
     },
     "execution_count": 3,
     "metadata": {},
     "output_type": "execute_result"
    }
   ],
   "source": [
    "\n",
    "circ = QuantumCircuit(1)\n",
    "x_1 = 1\n",
    "circ.rx(x_1, qubit=0) #x_1\n",
    "for i in range(4):\n",
    "    circ.ry(np.random.uniform(-2, 2), qubit=0) #theta_i\n",
    "    circ.rx(x_1, qubit=0) # x_1\n",
    "\n",
    "circ.draw('mpl')"
   ]
  },
  {
   "cell_type": "markdown",
   "metadata": {
    "slideshow": {
     "slide_type": "fragment"
    }
   },
   "source": [
    "- Our goal is to learn the **parameters**, $\\theta_{i}$ that can maximize the distance between different classes (and minimize for the same class) in Hilbert Space.\n",
    "\n",
    "- We will use two qubits one with data from class A and the other from class B, these are passed through the circuit and the overlap (distance) between the states is computed using a swap test. \n",
    "\n",
    "- This \"overlap\" measures the distance between two states. "
   ]
  },
  {
   "cell_type": "markdown",
   "metadata": {
    "slideshow": {
     "slide_type": "skip"
    }
   },
   "source": [
    "<!-- ### Final Circuit\n",
    "\n",
    "<img src=\"full_circ.png\" width=\"1500\" height=\"1000\" align=\"center\"/> -->"
   ]
  },
  {
   "cell_type": "code",
   "execution_count": 4,
   "metadata": {
    "slideshow": {
     "slide_type": "slide"
    }
   },
   "outputs": [],
   "source": [
    "def embedding_circuit(x1, x2, params):\n",
    "\n",
    "    circ = QuantumCircuit(3, 1)\n",
    "    circ.rx(x1, qubit=0)\n",
    "    circ.rx(x2, qubit=1)\n",
    "\n",
    "    for theta in params:\n",
    "        circ.ry(theta, qubit=0)\n",
    "        circ.rx(x1, qubit=0)\n",
    "\n",
    "        circ.ry(theta, qubit=1)\n",
    "        circ.rx(x2, qubit=1)\n",
    "    \n",
    "    circ.barrier()\n",
    "    circ.h(2)\n",
    "    circ.cswap(2, 1, 0)\n",
    "    circ.h(2)\n",
    "    \n",
    "    circ.measure(2, 0)\n",
    "\n",
    "    return circ \n"
   ]
  },
  {
   "cell_type": "code",
   "execution_count": 5,
   "metadata": {
    "slideshow": {
     "slide_type": "subslide"
    }
   },
   "outputs": [],
   "source": [
    "def get_overlaps(sample0, sample1, params):\n",
    "    \n",
    "    overlap_measures = []\n",
    "    backend = Aer.get_backend(\"qasm_simulator\")\n",
    "    num_shots = 10000\n",
    "\n",
    "    for x_1, x_2 in zip(sample0, sample1):\n",
    "        qc_11 = embedding_circuit(x_1, x_1, params)\n",
    "        qc_22 = embedding_circuit(x_2, x_2, params)\n",
    "        qc_12 = embedding_circuit(x_1, x_2, params)\n",
    "        \n",
    "        results = []\n",
    "\n",
    "        for qc in [qc_11, qc_22, qc_12]:\n",
    "            t_qc = transpile(qc, backend)\n",
    "            result = backend.run(t_qc, shots=num_shots).result().get_counts(qc)\n",
    "            results.append(sum([int(count)/num_shots if state == \"0\" else -int(count)/num_shots for state, count in result.items()]))\n",
    "\n",
    "        overlap_measures.append(results)\n",
    "    \n",
    "    return overlap_measures\n"
   ]
  },
  {
   "cell_type": "code",
   "execution_count": 6,
   "metadata": {
    "slideshow": {
     "slide_type": "subslide"
    }
   },
   "outputs": [],
   "source": [
    "def objective_function(params):\n",
    "\n",
    "    batch_size = 24\n",
    "\n",
    "    overlap_measures = get_overlaps(np.random.choice(x_train_0, batch_size), np.random.choice(x_train_1, batch_size), params)\n",
    "    \n",
    "    traces = np.sum(np.array(overlap_measures), axis=0) / batch_size\n",
    "\n",
    "    dhs = traces[0] + traces[1] - 2*traces[2]\n",
    "\n",
    "    cost = 1 - 0.5*dhs\n",
    "\n",
    "    return cost "
   ]
  },
  {
   "cell_type": "code",
   "execution_count": 30,
   "metadata": {
    "slideshow": {
     "slide_type": "skip"
    }
   },
   "outputs": [
    {
     "data": {
      "image/png": "[encoded data removed]",
      "text/plain": [
       "<Figure size 2788.19x794.64 with 1 Axes>"
      ]
     },
     "metadata": {},
     "output_type": "display_data"
    }
   ],
   "source": [
    "#c = embedding_circuit(x_train_0[0], x_train_1[1], np.random.rand(4))\n",
    "thetas = [Parameter(f\"θ{i}\") for i in range(1, 5)]\n",
    "x1 = Parameter(\"x1\")\n",
    "x2 = Parameter(\"x2\")\n",
    "\n",
    "qc = QuantumCircuit(3, 1)\n",
    "RX1 = Gate(name=\"RX\", num_qubits=1, params=[x1])\n",
    "RX2 = Gate(name=\"RX\", num_qubits=1, params=[x2])\n",
    "\n",
    "qc.append(RX1, [0])\n",
    "qc.append(RX2, [1])\n",
    "\n",
    "for theta in thetas:\n",
    "    qc.append(Gate(name=\"RY\", num_qubits=1, params=[theta]),[0])\n",
    "    qc.append(Gate(name=\"RY\", num_qubits=1, params=[theta]), [1])\n",
    "    \n",
    "    qc.append(RX1, [0])\n",
    "    qc.append(RX2, [1])\n",
    "\n",
    "qc.barrier()\n",
    "qc.h(2)\n",
    "qc.cswap(2, 0, 1)\n",
    "qc.h(2)\n",
    "qc.measure(2, 0)\n",
    "\n",
    "fig, ax = plt.subplots()\n",
    "qc.draw(\"mpl\", scale=3, ax=ax)\n",
    "plt.savefig(\"full_circ.png\")"
   ]
  },
  {
   "cell_type": "code",
   "execution_count": 8,
   "metadata": {
    "slideshow": {
     "slide_type": "subslide"
    }
   },
   "outputs": [
    {
     "name": "stdout",
     "output_type": "stream",
     "text": [
      "Final Weights: [ 2.20026138 -1.29185886 -2.09370559  1.2951607 ]\n",
      "Final Cost: 0.07558333333333334\n",
      "Num of Obj Function Calls: 46\n"
     ]
    }
   ],
   "source": [
    "optimizer = COBYLA(maxiter=500, tol=0.0001)\n",
    "\n",
    "ret = optimizer.optimize(num_vars=4, objective_function=objective_function, initial_point=np.random.randn(4))\n",
    "print(f\"Final Weights: {ret[0]}\\nFinal Cost: {ret[1]}\\nNum of Obj Function Calls: {ret[2]}\")"
   ]
  },
  {
   "cell_type": "markdown",
   "metadata": {
    "slideshow": {
     "slide_type": "slide"
    }
   },
   "source": [
    "Recall that the probability of measuring a given state $|\\psi\\rangle$ as $|0\\rangle$ is: $p(0) = |\\langle0|M|\\psi\\rangle|^{2}$ where $M$ is a measurement operator.\n",
    "\n",
    "- To classify a datapoint as either belonging to class A or class B:\n",
    "    - We use **reference states** from both classes (a sample of points from the training set). \n",
    "    - Calculate the probability by measuring the overlap between the state of our unknown datapoint and the reference states. "
   ]
  },
  {
   "cell_type": "markdown",
   "metadata": {
    "slideshow": {
     "slide_type": "fragment"
    }
   },
   "source": [
    "Given the known data points, is our new data point going to be from one class or the other?\n",
    "\n",
    "This will give us the probability of being in a class **GIVEN** the distance of the unknown point and our reference states. "
   ]
  },
  {
   "cell_type": "code",
   "execution_count": 9,
   "metadata": {
    "slideshow": {
     "slide_type": "subslide"
    }
   },
   "outputs": [],
   "source": [
    "def get_probs(x_test, x_train0, x_train1, params):\n",
    "    \n",
    "    batch_size = 24\n",
    "    backend = Aer.get_backend(\"qasm_simulator\")\n",
    "    num_shots = 10000\n",
    "    sample0 = np.random.choice(x_train0, batch_size) \n",
    "    sample1 = np.random.choice(x_train1, batch_size)\n",
    "\n",
    "    overlaps = []\n",
    "    \n",
    "    for x_1, x_2 in zip(sample0, sample1):\n",
    "        qc_1 = embedding_circuit(x_test, x_1, params)\n",
    "        qc_2 = embedding_circuit(x_test, x_2, params)\n",
    "        \n",
    "        results = []\n",
    "\n",
    "        for qc in [qc_1, qc_2]:\n",
    "            t_qc = transpile(qc, backend)\n",
    "            result = backend.run(t_qc, shots=num_shots).result().get_counts(qc)   \n",
    "\n",
    "            results.append(sum([int(count)/num_shots if state == \"0\" else -int(count)/num_shots for state, count in result.items()]))\n",
    "        overlaps.append(results)\n",
    "\n",
    "    probs = np.sum(np.array(overlaps), axis=0) / batch_size\n",
    "\n",
    "    return {0: probs[0], 1: probs[1]}\n"
   ]
  },
  {
   "cell_type": "code",
   "execution_count": 13,
   "metadata": {
    "slideshow": {
     "slide_type": "skip"
    }
   },
   "outputs": [
    {
     "name": "stderr",
     "output_type": "stream",
     "text": [
      "/Users/ag30293/anaconda3/envs/quantum/lib/python3.7/site-packages/ipykernel_launcher.py:8: UserWarning: FixedFormatter should only be used together with FixedLocator\n",
      "  \n"
     ]
    },
    {
     "data": {
      "image/png": "[encoded data removed]",
      "text/plain": [
       "<Figure size 1080x720 with 1 Axes>"
      ]
     },
     "metadata": {},
     "output_type": "display_data"
    }
   ],
   "source": [
    "probs_0 = [get_probs(x, x_train_0, x_train_1, ret[0]) for x in x_test_0]\n",
    "probs_1 = [get_probs(x, x_train_0, x_train_1, ret[0]) for x in x_test_1]\n",
    "\n",
    "fig, ax = plt.subplots(figsize=(15, 10))\n",
    "\n",
    "ax.scatter(np.random.rand(len(probs_0)), [p[0] for p in probs_0], c='r', alpha=0.6, label='Class A', s=400)\n",
    "ax.scatter(np.random.rand(len(probs_1)), [p[0] for p in probs_1], c='b', alpha=0.6, label='Class B', s=400)\n",
    "ax.set_yticklabels(np.round(np.arange(-0.2, 1.2, 0.2), 1), fontsize=20)\n",
    "ax.set_title(\"Probability of being in Class A\", fontsize=20)\n",
    "_ = ax.legend(fontsize=20)\n",
    "\n",
    "plt.savefig(\"final_probs_toy.png\")"
   ]
  },
  {
   "cell_type": "markdown",
   "metadata": {
    "slideshow": {
     "slide_type": "slide"
    }
   },
   "source": [
    "<img src=\"final_probs_labeled.png\" width=\"1500\" height=\"1000\" align=\"center\"/>"
   ]
  },
  {
   "cell_type": "markdown",
   "metadata": {
    "slideshow": {
     "slide_type": "subslide"
    }
   },
   "source": [
    "### Key Point\n",
    "\n",
    "- These are true probability estimates, not single-point estimates and this is one of the main advantages of using quantum computing. The machines are inherently probabilistic.\n",
    "\n",
    "- We started with a non linearly separable dataset, that we were able to classify with full probability estimates using **ONLY** three quantum bits. "
   ]
  },
  {
   "cell_type": "markdown",
   "metadata": {
    "slideshow": {
     "slide_type": "slide"
    }
   },
   "source": [
    "<img src=\"intro_files/end.png\" width=\"2400\" height=\"1080\" align=\"center\"/>"
   ]
  },
  {
   "cell_type": "code",
   "execution_count": null,
   "metadata": {},
   "outputs": [],
   "source": []
  }
 ],
 "metadata": {
  "celltoolbar": "Slideshow",
  "interpreter": {
   "hash": "53cb1b5ebd5aaf8ef74b96fc33a25e212426675a90f9b2f03658d656b652dbba"
  },
  "kernelspec": {
   "display_name": "Python 3 (ipykernel)",
   "language": "python",
   "name": "python3"
  },
  "language_info": {
   "codemirror_mode": {
    "name": "ipython",
    "version": 3
   },
   "file_extension": ".py",
   "mimetype": "text/x-python",
   "name": "python",
   "nbconvert_exporter": "python",
   "pygments_lexer": "ipython3",
   "version": "3.9.7"
  }
 },
 "nbformat": 4,
 "nbformat_minor": 2
}
